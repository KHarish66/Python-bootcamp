{
 "cells": [
  {
   "cell_type": "code",
   "execution_count": 1,
   "id": "7167d068-5211-4156-9800-0ab63dd42407",
   "metadata": {},
   "outputs": [
    {
     "name": "stdout",
     "output_type": "stream",
     "text": [
      "Hello world\n"
     ]
    }
   ],
   "source": [
    "print(\"Hello world\")"
   ]
  },
  {
   "cell_type": "markdown",
   "id": "4d9dcacd-26ec-4ea3-a432-1c5e44a3a5d8",
   "metadata": {},
   "source": [
    "#First program"
   ]
  },
  {
   "cell_type": "markdown",
   "id": "5289a457-b4c0-4827-9666-b285b1bc78c7",
   "metadata": {},
   "source": [
    "#Variables in python"
   ]
  },
  {
   "cell_type": "code",
   "execution_count": 4,
   "id": "fc6e9866-c403-454d-9e4b-5ae7a3c71cd9",
   "metadata": {},
   "outputs": [
    {
     "name": "stdout",
     "output_type": "stream",
     "text": [
      "20\n"
     ]
    }
   ],
   "source": [
    "x = 20\n",
    "\n",
    "print(x)"
   ]
  },
  {
   "cell_type": "code",
   "execution_count": 5,
   "id": "a7da5b0e-0431-43cb-9ad7-6b5136795296",
   "metadata": {},
   "outputs": [
    {
     "name": "stdout",
     "output_type": "stream",
     "text": [
      "49\n"
     ]
    }
   ],
   "source": [
    "x = 49\n",
    "\n",
    "\n",
    "print(x)"
   ]
  },
  {
   "cell_type": "code",
   "execution_count": 6,
   "id": "af087225-c7ca-44d1-961c-e737771dbf73",
   "metadata": {},
   "outputs": [
    {
     "data": {
      "text/plain": [
       "int"
      ]
     },
     "execution_count": 6,
     "metadata": {},
     "output_type": "execute_result"
    }
   ],
   "source": [
    "type(x)"
   ]
  },
  {
   "cell_type": "code",
   "execution_count": 7,
   "id": "724612ba-e1cd-49a7-8968-60402f8dcc81",
   "metadata": {},
   "outputs": [
    {
     "name": "stdout",
     "output_type": "stream",
     "text": [
      "Dark Chocolate\n"
     ]
    }
   ],
   "source": [
    "y = \"Dark Chocolate\"\n",
    "\n",
    "print(y)"
   ]
  },
  {
   "cell_type": "code",
   "execution_count": 8,
   "id": "35f49302-6068-459c-aeb7-ae06a1ee102c",
   "metadata": {},
   "outputs": [
    {
     "data": {
      "text/plain": [
       "str"
      ]
     },
     "execution_count": 8,
     "metadata": {},
     "output_type": "execute_result"
    }
   ],
   "source": [
    "type(y)"
   ]
  },
  {
   "cell_type": "code",
   "execution_count": 10,
   "id": "71439fe0-4648-45a3-b643-793c79a59e8f",
   "metadata": {},
   "outputs": [
    {
     "name": "stdout",
     "output_type": "stream",
     "text": [
      "Mint Chocolate\n"
     ]
    }
   ],
   "source": [
    "y = 'Mint Chocolate'\n",
    "\n",
    "print(y)"
   ]
  },
  {
   "cell_type": "code",
   "execution_count": 11,
   "id": "e9cba136-693e-4a79-91dd-6c2146ebd416",
   "metadata": {},
   "outputs": [
    {
     "name": "stdout",
     "output_type": "stream",
     "text": [
      "Chocolate\n",
      "Vanilla\n",
      "Rocky road\n"
     ]
    }
   ],
   "source": [
    "x,y,z = 'Chocolate','Vanilla','Rocky road'\n",
    "\n",
    "print(x)\n",
    "print(y)\n",
    "print(z)"
   ]
  },
  {
   "cell_type": "code",
   "execution_count": 13,
   "id": "ca42a3d4-d431-4a17-80c4-f2d7619da472",
   "metadata": {},
   "outputs": [
    {
     "name": "stdout",
     "output_type": "stream",
     "text": [
      "Apple\n"
     ]
    }
   ],
   "source": [
    "x = y = z = \"Apple\"\n",
    "\n",
    "print(x)"
   ]
  },
  {
   "cell_type": "code",
   "execution_count": 15,
   "id": "2e87aa69-161b-41e4-8eea-71373ff3c779",
   "metadata": {},
   "outputs": [
    {
     "name": "stdout",
     "output_type": "stream",
     "text": [
      "Vanilla\n",
      "Chocolate\n",
      "Kit kat\n"
     ]
    }
   ],
   "source": [
    "ice_cream = [\"Vanilla\",\"Chocolate\",\"Kit kat\"]\n",
    "\n",
    "x,y,z = ice_cream\n",
    "\n",
    "print(x)\n",
    "print(y)\n",
    "print(z)"
   ]
  },
  {
   "cell_type": "code",
   "execution_count": 16,
   "id": "fcc2887a-356c-4fe7-b96b-57f75e2210be",
   "metadata": {},
   "outputs": [
    {
     "name": "stdout",
     "output_type": "stream",
     "text": [
      "Today is a holiday.\n"
     ]
    }
   ],
   "source": [
    "x = \"Today is a holiday\" + \".\"\n",
    "\n",
    "print(x)"
   ]
  },
  {
   "cell_type": "code",
   "execution_count": 18,
   "id": "171850d6-059a-4ad7-8707-b7be278dd428",
   "metadata": {},
   "outputs": [
    {
     "name": "stdout",
     "output_type": "stream",
     "text": [
      "5\n"
     ]
    }
   ],
   "source": [
    "y = 3+2\n",
    "\n",
    "print(y)"
   ]
  },
  {
   "cell_type": "code",
   "execution_count": 19,
   "id": "a8578e69-9b26-4087-962f-4c44da4934ab",
   "metadata": {},
   "outputs": [
    {
     "name": "stdout",
     "output_type": "stream",
     "text": [
      "6\n"
     ]
    }
   ],
   "source": [
    "x = 1\n",
    "y = 2\n",
    "z = 3\n",
    "\n",
    "print(x+y+z)"
   ]
  },
  {
   "cell_type": "markdown",
   "id": "e4e2647b-492a-4b6d-a9db-ea530ff647ed",
   "metadata": {},
   "source": [
    "#Data Types"
   ]
  },
  {
   "cell_type": "code",
   "execution_count": 2,
   "id": "47239515-5aa4-4237-bfb5-9b8cb12385f2",
   "metadata": {},
   "outputs": [
    {
     "data": {
      "text/plain": [
       "int"
      ]
     },
     "execution_count": 2,
     "metadata": {},
     "output_type": "execute_result"
    }
   ],
   "source": [
    "type(12)"
   ]
  },
  {
   "cell_type": "code",
   "execution_count": 3,
   "id": "518fdc98-981f-4914-b80c-7d25e733bb9c",
   "metadata": {},
   "outputs": [
    {
     "data": {
      "text/plain": [
       "int"
      ]
     },
     "execution_count": 3,
     "metadata": {},
     "output_type": "execute_result"
    }
   ],
   "source": [
    "type(-12)"
   ]
  },
  {
   "cell_type": "code",
   "execution_count": 4,
   "id": "8c418542-eb47-4943-a339-459a67f39314",
   "metadata": {},
   "outputs": [
    {
     "data": {
      "text/plain": [
       "int"
      ]
     },
     "execution_count": 4,
     "metadata": {},
     "output_type": "execute_result"
    }
   ],
   "source": [
    "type(0)"
   ]
  },
  {
   "cell_type": "code",
   "execution_count": 5,
   "id": "ab93bc34-f325-4402-815f-1cd2f9a8ad34",
   "metadata": {},
   "outputs": [
    {
     "data": {
      "text/plain": [
       "float"
      ]
     },
     "execution_count": 5,
     "metadata": {},
     "output_type": "execute_result"
    }
   ],
   "source": [
    "type(12 + 30.5)"
   ]
  },
  {
   "cell_type": "code",
   "execution_count": 6,
   "id": "ed02c90c-92bb-4185-955b-7075dd7b2ee9",
   "metadata": {},
   "outputs": [
    {
     "data": {
      "text/plain": [
       "float"
      ]
     },
     "execution_count": 6,
     "metadata": {},
     "output_type": "execute_result"
    }
   ],
   "source": [
    "type(9.56)"
   ]
  },
  {
   "cell_type": "code",
   "execution_count": 7,
   "id": "36fd721f-f79e-4928-b8e9-ceb7d244b078",
   "metadata": {},
   "outputs": [
    {
     "data": {
      "text/plain": [
       "complex"
      ]
     },
     "execution_count": 7,
     "metadata": {},
     "output_type": "execute_result"
    }
   ],
   "source": [
    "type(6+3j)"
   ]
  },
  {
   "cell_type": "markdown",
   "id": "25e1839e-ef73-48fc-a2a9-94ef09528934",
   "metadata": {},
   "source": [
    "#Boolean"
   ]
  },
  {
   "cell_type": "code",
   "execution_count": 10,
   "id": "0455fd81-cc3b-40ac-aab8-664a36b3acd1",
   "metadata": {},
   "outputs": [
    {
     "data": {
      "text/plain": [
       "bool"
      ]
     },
     "execution_count": 10,
     "metadata": {},
     "output_type": "execute_result"
    }
   ],
   "source": [
    "type(True)"
   ]
  },
  {
   "cell_type": "code",
   "execution_count": 11,
   "id": "89fb754e-879b-4cdc-a298-179dd199c716",
   "metadata": {},
   "outputs": [
    {
     "data": {
      "text/plain": [
       "bool"
      ]
     },
     "execution_count": 11,
     "metadata": {},
     "output_type": "execute_result"
    }
   ],
   "source": [
    "type(1 > 5)"
   ]
  },
  {
   "cell_type": "code",
   "execution_count": 12,
   "id": "26bf684b-0b41-4a54-a5cf-325a2dc2e59e",
   "metadata": {},
   "outputs": [
    {
     "data": {
      "text/plain": [
       "False"
      ]
     },
     "execution_count": 12,
     "metadata": {},
     "output_type": "execute_result"
    }
   ],
   "source": [
    "1 > 5"
   ]
  },
  {
   "cell_type": "markdown",
   "id": "c016e988-803e-49de-b0ec-c37d259d69b6",
   "metadata": {},
   "source": [
    "#Strings"
   ]
  },
  {
   "cell_type": "code",
   "execution_count": 13,
   "id": "77497f37-17ff-4229-b3aa-2a0cd390b29a",
   "metadata": {},
   "outputs": [
    {
     "data": {
      "text/plain": [
       "str"
      ]
     },
     "execution_count": 13,
     "metadata": {},
     "output_type": "execute_result"
    }
   ],
   "source": [
    "type(\"Harish\")"
   ]
  },
  {
   "cell_type": "code",
   "execution_count": 15,
   "id": "ae2e4ea5-c862-4b55-ac5b-cde32d59260d",
   "metadata": {},
   "outputs": [],
   "source": [
    "multilines = \"\"\"\n",
    "Today is holiday\n",
    "due to sunday\n",
    "and tomorrow is a working day\n",
    "\n",
    "\"\"\""
   ]
  },
  {
   "cell_type": "code",
   "execution_count": 16,
   "id": "fc0a62c6-30bc-475c-ab68-9321d370f1ea",
   "metadata": {},
   "outputs": [
    {
     "name": "stdout",
     "output_type": "stream",
     "text": [
      "\n",
      "Today is holiday\n",
      "due to sunday\n",
      "and tomorrow is a working day\n",
      "\n",
      "\n"
     ]
    }
   ],
   "source": [
    "print(multilines)"
   ]
  },
  {
   "cell_type": "code",
   "execution_count": 17,
   "id": "538891f3-ca12-4d68-8c49-ce143c444152",
   "metadata": {},
   "outputs": [
    {
     "data": {
      "text/plain": [
       "str"
      ]
     },
     "execution_count": 17,
     "metadata": {},
     "output_type": "execute_result"
    }
   ],
   "source": [
    "type(multilines)"
   ]
  },
  {
   "cell_type": "markdown",
   "id": "bbfdad77-bd9e-4153-a28d-f29e337c2a53",
   "metadata": {},
   "source": [
    "#Indexing"
   ]
  },
  {
   "cell_type": "code",
   "execution_count": 18,
   "id": "81342abb-e737-4554-9463-f499774261b2",
   "metadata": {},
   "outputs": [],
   "source": [
    "a = \"Hello world\""
   ]
  },
  {
   "cell_type": "code",
   "execution_count": 19,
   "id": "87931ce1-b880-4aa7-bdc5-dcf7388dfeae",
   "metadata": {},
   "outputs": [
    {
     "name": "stdout",
     "output_type": "stream",
     "text": [
      "Hello world\n"
     ]
    }
   ],
   "source": [
    "print(a)"
   ]
  },
  {
   "cell_type": "code",
   "execution_count": 20,
   "id": "cccb9b73-7cee-492a-92fc-e8c421778b33",
   "metadata": {},
   "outputs": [
    {
     "name": "stdout",
     "output_type": "stream",
     "text": [
      "Hello\n"
     ]
    }
   ],
   "source": [
    "print(a[0:5])"
   ]
  },
  {
   "cell_type": "code",
   "execution_count": 21,
   "id": "ba2697e6-03bc-4800-99d7-6b1561f0ebb6",
   "metadata": {},
   "outputs": [
    {
     "name": "stdout",
     "output_type": "stream",
     "text": [
      "w\n"
     ]
    }
   ],
   "source": [
    "print(a[6])"
   ]
  },
  {
   "cell_type": "markdown",
   "id": "85f18334-2492-4734-ae11-78c85cc4d669",
   "metadata": {},
   "source": [
    "#Lists"
   ]
  },
  {
   "cell_type": "code",
   "execution_count": 22,
   "id": "899ee459-4ea3-47fc-bdfe-61fd5a691714",
   "metadata": {},
   "outputs": [
    {
     "data": {
      "text/plain": [
       "[1, 2, 3]"
      ]
     },
     "execution_count": 22,
     "metadata": {},
     "output_type": "execute_result"
    }
   ],
   "source": [
    "[1,2,3]"
   ]
  },
  {
   "cell_type": "code",
   "execution_count": 23,
   "id": "7a462a77-17c8-4177-bb48-6c8473eee3b3",
   "metadata": {},
   "outputs": [
    {
     "data": {
      "text/plain": [
       "['apple', 'mango', 'carrot']"
      ]
     },
     "execution_count": 23,
     "metadata": {},
     "output_type": "execute_result"
    }
   ],
   "source": [
    "[\"apple\",\"mango\",\"carrot\"]"
   ]
  },
  {
   "cell_type": "code",
   "execution_count": 24,
   "id": "d4d3adc0-b266-484d-8f1a-0bd7f4406aa5",
   "metadata": {},
   "outputs": [
    {
     "data": {
      "text/plain": [
       "[1, 'apple', 'chocolate', 3, True]"
      ]
     },
     "execution_count": 24,
     "metadata": {},
     "output_type": "execute_result"
    }
   ],
   "source": [
    "[1,\"apple\",\"chocolate\",3,True]"
   ]
  },
  {
   "cell_type": "code",
   "execution_count": 25,
   "id": "123a7354-e7cb-493e-9935-d0196ec2db3d",
   "metadata": {},
   "outputs": [],
   "source": [
    "ice_cream = [\"Vanilla\",\"Chocolate\",\"Brownie\"]"
   ]
  },
  {
   "cell_type": "code",
   "execution_count": 26,
   "id": "887b805b-fbbd-45e6-954b-6aab4115a55e",
   "metadata": {},
   "outputs": [
    {
     "data": {
      "text/plain": [
       "['Vanilla', 'Chocolate', 'Brownie']"
      ]
     },
     "execution_count": 26,
     "metadata": {},
     "output_type": "execute_result"
    }
   ],
   "source": [
    "ice_cream"
   ]
  },
  {
   "cell_type": "code",
   "execution_count": 27,
   "id": "9b747479-4465-49b7-9f3a-525e7640fecd",
   "metadata": {},
   "outputs": [],
   "source": [
    "ice_cream.append(\"Strawberry\")"
   ]
  },
  {
   "cell_type": "code",
   "execution_count": 28,
   "id": "adce2117-00b1-4817-a037-9d0c55ea9fa7",
   "metadata": {},
   "outputs": [
    {
     "data": {
      "text/plain": [
       "['Vanilla', 'Chocolate', 'Brownie', 'Strawberry']"
      ]
     },
     "execution_count": 28,
     "metadata": {},
     "output_type": "execute_result"
    }
   ],
   "source": [
    "ice_cream"
   ]
  },
  {
   "cell_type": "code",
   "execution_count": 29,
   "id": "db830087-e148-492f-abb8-aa340817e433",
   "metadata": {},
   "outputs": [],
   "source": [
    "ice_cream[0] = \"Mango\""
   ]
  },
  {
   "cell_type": "code",
   "execution_count": 30,
   "id": "975f0fb6-0be2-4251-a0e3-907e09a4c626",
   "metadata": {},
   "outputs": [
    {
     "data": {
      "text/plain": [
       "['Mango', 'Chocolate', 'Brownie', 'Strawberry']"
      ]
     },
     "execution_count": 30,
     "metadata": {},
     "output_type": "execute_result"
    }
   ],
   "source": [
    "ice_cream"
   ]
  },
  {
   "cell_type": "markdown",
   "id": "1b4e7244-44d5-4de2-9d96-750121ad6de4",
   "metadata": {},
   "source": [
    "#Tuples"
   ]
  },
  {
   "cell_type": "code",
   "execution_count": 31,
   "id": "beae1919-578a-4944-8249-44e4797859b7",
   "metadata": {},
   "outputs": [],
   "source": [
    "tuple_scoop = (1,2,3,\"apple\",\"mango\")"
   ]
  },
  {
   "cell_type": "code",
   "execution_count": 32,
   "id": "748c7279-8ea2-48c7-8821-2c04d42bcf27",
   "metadata": {},
   "outputs": [
    {
     "data": {
      "text/plain": [
       "tuple"
      ]
     },
     "execution_count": 32,
     "metadata": {},
     "output_type": "execute_result"
    }
   ],
   "source": [
    "type(tuple_scoop)"
   ]
  },
  {
   "cell_type": "code",
   "execution_count": 34,
   "id": "e1da0a83-6a5f-433b-8fb9-e191297b7c22",
   "metadata": {},
   "outputs": [
    {
     "data": {
      "text/plain": [
       "'apple'"
      ]
     },
     "execution_count": 34,
     "metadata": {},
     "output_type": "execute_result"
    }
   ],
   "source": [
    "tuple_scoop[3]"
   ]
  },
  {
   "cell_type": "markdown",
   "id": "2bad3b37-3f6b-4729-8c70-99cb74f8e7eb",
   "metadata": {},
   "source": [
    "#Sets"
   ]
  },
  {
   "cell_type": "code",
   "execution_count": 36,
   "id": "e9d4f19f-fe5d-4c0c-942a-195e166f15ca",
   "metadata": {},
   "outputs": [],
   "source": [
    "sample_set = {1,2,3,\"apple\",3,2,5}"
   ]
  },
  {
   "cell_type": "code",
   "execution_count": 37,
   "id": "3f07f07a-0255-496a-99d0-fe4777dabe63",
   "metadata": {},
   "outputs": [
    {
     "name": "stdout",
     "output_type": "stream",
     "text": [
      "{1, 2, 3, 5, 'apple'}\n"
     ]
    }
   ],
   "source": [
    "print(sample_set)"
   ]
  },
  {
   "cell_type": "markdown",
   "id": "4c3ccbe9-4eee-42d1-b168-68bb4d9c7d15",
   "metadata": {},
   "source": [
    "#Dictionaries"
   ]
  },
  {
   "cell_type": "code",
   "execution_count": 38,
   "id": "293edad1-fb45-4c98-a3bb-b6883871216b",
   "metadata": {},
   "outputs": [],
   "source": [
    "dict_sample = {\"Name\":\"Alex\",\"Vehicle\":\"Car\",\"No\":36}"
   ]
  },
  {
   "cell_type": "code",
   "execution_count": 39,
   "id": "75833d36-6e16-473a-aba7-8f2b2d6d3a07",
   "metadata": {},
   "outputs": [
    {
     "name": "stdout",
     "output_type": "stream",
     "text": [
      "{'Name': 'Alex', 'Vehicle': 'Car', 'No': 36}\n"
     ]
    }
   ],
   "source": [
    "print(dict_sample)"
   ]
  },
  {
   "cell_type": "code",
   "execution_count": 41,
   "id": "de49941c-506d-4c44-b070-eac198f0c909",
   "metadata": {},
   "outputs": [
    {
     "data": {
      "text/plain": [
       "dict"
      ]
     },
     "execution_count": 41,
     "metadata": {},
     "output_type": "execute_result"
    }
   ],
   "source": [
    "type(dict_sample)"
   ]
  },
  {
   "cell_type": "code",
   "execution_count": 42,
   "id": "d7a7b1f0-30d6-4e51-9087-a57391ae314d",
   "metadata": {},
   "outputs": [
    {
     "data": {
      "text/plain": [
       "dict_values(['Alex', 'Car', 36])"
      ]
     },
     "execution_count": 42,
     "metadata": {},
     "output_type": "execute_result"
    }
   ],
   "source": [
    "dict_sample.values()"
   ]
  },
  {
   "cell_type": "code",
   "execution_count": 46,
   "id": "c879f69a-9266-4e38-9cd1-acc8642a37df",
   "metadata": {},
   "outputs": [
    {
     "data": {
      "text/plain": [
       "'Alex'"
      ]
     },
     "execution_count": 46,
     "metadata": {},
     "output_type": "execute_result"
    }
   ],
   "source": [
    "dict_sample['Name']"
   ]
  },
  {
   "cell_type": "code",
   "execution_count": 47,
   "id": "d6884e87-a6f6-4da9-b2f2-02cd2bcb46b9",
   "metadata": {},
   "outputs": [
    {
     "data": {
      "text/plain": [
       "'Car'"
      ]
     },
     "execution_count": 47,
     "metadata": {},
     "output_type": "execute_result"
    }
   ],
   "source": [
    "dict_sample['Vehicle']"
   ]
  },
  {
   "cell_type": "code",
   "execution_count": 48,
   "id": "88821965-f9f4-4d4e-9f23-1354a31d9f67",
   "metadata": {},
   "outputs": [],
   "source": [
    "dict_sample['Name'] = \"sam\""
   ]
  },
  {
   "cell_type": "code",
   "execution_count": 49,
   "id": "058609c6-80c7-4457-9e21-c8e0b4eda50b",
   "metadata": {},
   "outputs": [
    {
     "name": "stdout",
     "output_type": "stream",
     "text": [
      "{'Name': 'sam', 'Vehicle': 'Car', 'No': 36}\n"
     ]
    }
   ],
   "source": [
    "print(dict_sample)"
   ]
  },
  {
   "cell_type": "code",
   "execution_count": 53,
   "id": "61c576ad-a244-4c36-a1bf-18d51e8a9726",
   "metadata": {},
   "outputs": [],
   "source": [
    "dict_sample.update({\"No\":67})"
   ]
  },
  {
   "cell_type": "code",
   "execution_count": 54,
   "id": "58d4ac74-cbd0-4b0d-ad43-fcb40b0da840",
   "metadata": {},
   "outputs": [
    {
     "data": {
      "text/plain": [
       "{'Name': 'sam', 'Vehicle': 'Car', 'No': 67}"
      ]
     },
     "execution_count": 54,
     "metadata": {},
     "output_type": "execute_result"
    }
   ],
   "source": [
    "dict_sample"
   ]
  },
  {
   "cell_type": "code",
   "execution_count": 56,
   "id": "c1bf6433-545a-4ee6-ab85-f73aed6b0101",
   "metadata": {},
   "outputs": [],
   "source": [
    "dict_sample.update({\"Vehicle\":'Bike'})"
   ]
  },
  {
   "cell_type": "code",
   "execution_count": 57,
   "id": "518505bd-21b5-49d9-a884-cbc10aa6e2b2",
   "metadata": {},
   "outputs": [
    {
     "name": "stdout",
     "output_type": "stream",
     "text": [
      "{'Name': 'sam', 'Vehicle': 'Bike', 'No': 67}\n"
     ]
    }
   ],
   "source": [
    "print(dict_sample)"
   ]
  },
  {
   "cell_type": "markdown",
   "id": "f12cbbd1-00e9-40d2-b6f1-0c3e3c598691",
   "metadata": {},
   "source": [
    "#Comparision Operators"
   ]
  },
  {
   "cell_type": "code",
   "execution_count": 58,
   "id": "3b2dfd66-7c8b-4971-9b1c-c8967cf566e4",
   "metadata": {},
   "outputs": [
    {
     "data": {
      "text/plain": [
       "True"
      ]
     },
     "execution_count": 58,
     "metadata": {},
     "output_type": "execute_result"
    }
   ],
   "source": [
    "10 == 10"
   ]
  },
  {
   "cell_type": "code",
   "execution_count": 59,
   "id": "26325925-eae3-409c-a00a-7b2e214540e4",
   "metadata": {},
   "outputs": [
    {
     "data": {
      "text/plain": [
       "False"
      ]
     },
     "execution_count": 59,
     "metadata": {},
     "output_type": "execute_result"
    }
   ],
   "source": [
    "10 != 10"
   ]
  },
  {
   "cell_type": "code",
   "execution_count": 60,
   "id": "f0725a8f-c46a-46f4-8d65-277528c99ddd",
   "metadata": {},
   "outputs": [
    {
     "data": {
      "text/plain": [
       "False"
      ]
     },
     "execution_count": 60,
     "metadata": {},
     "output_type": "execute_result"
    }
   ],
   "source": [
    "\"Vanilla\" == \"Chocolate\""
   ]
  },
  {
   "cell_type": "code",
   "execution_count": 61,
   "id": "845b83d0-6b87-4e87-8367-ec4061831545",
   "metadata": {},
   "outputs": [
    {
     "data": {
      "text/plain": [
       "False"
      ]
     },
     "execution_count": 61,
     "metadata": {},
     "output_type": "execute_result"
    }
   ],
   "source": [
    "50 < 50"
   ]
  },
  {
   "cell_type": "code",
   "execution_count": 62,
   "id": "ff4efc61-11b6-402b-b637-ca257959a369",
   "metadata": {},
   "outputs": [
    {
     "data": {
      "text/plain": [
       "True"
      ]
     },
     "execution_count": 62,
     "metadata": {},
     "output_type": "execute_result"
    }
   ],
   "source": [
    "50 <= 50"
   ]
  },
  {
   "cell_type": "markdown",
   "id": "73d56858-7b6c-4e4c-9fd5-b7dfdde5acfa",
   "metadata": {},
   "source": [
    "#Logical Operators"
   ]
  },
  {
   "cell_type": "code",
   "execution_count": 69,
   "id": "376ec7df-3cc7-4e96-802a-9a52562447ef",
   "metadata": {},
   "outputs": [
    {
     "data": {
      "text/plain": [
       "False"
      ]
     },
     "execution_count": 69,
     "metadata": {},
     "output_type": "execute_result"
    }
   ],
   "source": [
    "(10 > 5) and (10 > 89)"
   ]
  },
  {
   "cell_type": "code",
   "execution_count": 70,
   "id": "fb2a48be-dcf5-42a3-9a31-884963f40ad5",
   "metadata": {},
   "outputs": [
    {
     "data": {
      "text/plain": [
       "True"
      ]
     },
     "execution_count": 70,
     "metadata": {},
     "output_type": "execute_result"
    }
   ],
   "source": [
    "(10 > 5) or (10 > 89)"
   ]
  },
  {
   "cell_type": "code",
   "execution_count": 72,
   "id": "84cbf60b-fc4f-40fb-9923-68275427d08f",
   "metadata": {},
   "outputs": [
    {
     "data": {
      "text/plain": [
       "False"
      ]
     },
     "execution_count": 72,
     "metadata": {},
     "output_type": "execute_result"
    }
   ],
   "source": [
    "not(50 > 10)"
   ]
  },
  {
   "cell_type": "markdown",
   "id": "efa651bd-6c3e-4392-bdae-17c7d04db6dd",
   "metadata": {},
   "source": [
    "#If elif else statements"
   ]
  },
  {
   "cell_type": "code",
   "execution_count": 74,
   "id": "7bc4b49a-3fb9-45a2-bb6d-18464fb2606d",
   "metadata": {},
   "outputs": [
    {
     "name": "stdout",
     "output_type": "stream",
     "text": [
      "It works\n"
     ]
    }
   ],
   "source": [
    "if 25 > 10 :\n",
    "    print(\"It works\")"
   ]
  },
  {
   "cell_type": "code",
   "execution_count": 77,
   "id": "d806c30d-db92-48c8-baef-9cf91723a952",
   "metadata": {},
   "outputs": [
    {
     "name": "stdout",
     "output_type": "stream",
     "text": [
      "It will not work\n"
     ]
    }
   ],
   "source": [
    "if 5 > 10:\n",
    "    print(\"It works\")\n",
    "else:\n",
    "    print(\"It will not work\")"
   ]
  },
  {
   "cell_type": "code",
   "execution_count": 81,
   "id": "a5803c25-13a6-41fc-9a92-c654aa1a7951",
   "metadata": {},
   "outputs": [
    {
     "name": "stdout",
     "output_type": "stream",
     "text": [
      "Elif works\n"
     ]
    }
   ],
   "source": [
    "if 21 > 24:\n",
    "    print(\"It works\")\n",
    "elif 33 > 32:\n",
    "    print(\"Elif works\")\n",
    "else :\n",
    "    print(\"Nothing worked\")"
   ]
  },
  {
   "cell_type": "markdown",
   "id": "a5b383ca-5e85-450e-bae6-3c7445cc0efb",
   "metadata": {},
   "source": [
    "#for loops"
   ]
  },
  {
   "cell_type": "code",
   "execution_count": 82,
   "id": "41367ff9-1f0a-42fc-8595-fdf0d858b9a8",
   "metadata": {},
   "outputs": [],
   "source": [
    "integers = [1,2,3,4,5]"
   ]
  },
  {
   "cell_type": "code",
   "execution_count": 83,
   "id": "1d784099-cf7f-409e-a1ee-115561f00fdd",
   "metadata": {},
   "outputs": [
    {
     "name": "stdout",
     "output_type": "stream",
     "text": [
      "1\n",
      "2\n",
      "3\n",
      "4\n",
      "5\n"
     ]
    }
   ],
   "source": [
    "for number in integers:\n",
    "    print(number)"
   ]
  },
  {
   "cell_type": "code",
   "execution_count": 85,
   "id": "6a2c236e-3a79-4b17-8006-fe3363affdd3",
   "metadata": {},
   "outputs": [
    {
     "name": "stdout",
     "output_type": "stream",
     "text": [
      "yep!\n",
      "yep!\n",
      "yep!\n",
      "yep!\n",
      "yep!\n"
     ]
    }
   ],
   "source": [
    "for number in integers:\n",
    "    print(\"yep!\")"
   ]
  },
  {
   "cell_type": "code",
   "execution_count": null,
   "id": "cfe853cf-3427-4981-81b4-e5f48b5fb832",
   "metadata": {},
   "outputs": [],
   "source": [
    "integers = [1,2,3,4,5]"
   ]
  },
  {
   "cell_type": "code",
   "execution_count": 87,
   "id": "2b2afa2a-f1ef-4a41-a891-9062dba9e6de",
   "metadata": {},
   "outputs": [
    {
     "name": "stdout",
     "output_type": "stream",
     "text": [
      "4\n",
      "5\n",
      "6\n",
      "7\n",
      "8\n"
     ]
    }
   ],
   "source": [
    "for i in integers:\n",
    "    print(i + 3)"
   ]
  },
  {
   "cell_type": "code",
   "execution_count": 91,
   "id": "cd0cfe72-1575-4b70-9555-09b4f25e5a79",
   "metadata": {},
   "outputs": [],
   "source": [
    "ice_cream_dict = {\"Name\" : \"Alex\", \"Age\" : 26 , \"favourite icecreams\" : [\"MCC\",\"Chocolate\",\"Mango\"]}"
   ]
  },
  {
   "cell_type": "code",
   "execution_count": 92,
   "id": "933b0e78-da19-4595-aab3-6d60f4a2039b",
   "metadata": {},
   "outputs": [
    {
     "name": "stdout",
     "output_type": "stream",
     "text": [
      "Alex\n",
      "26\n",
      "['MCC', 'Chocolate', 'Mango']\n"
     ]
    }
   ],
   "source": [
    "for cream in ice_cream_dict.values():\n",
    "    print(cream)"
   ]
  },
  {
   "cell_type": "code",
   "execution_count": 93,
   "id": "4d0ad9d6-5793-4167-9277-5d22b855e994",
   "metadata": {},
   "outputs": [
    {
     "name": "stdout",
     "output_type": "stream",
     "text": [
      "('Name', 'Alex')\n",
      "('Age', 26)\n",
      "('favourite icecreams', ['MCC', 'Chocolate', 'Mango'])\n"
     ]
    }
   ],
   "source": [
    "for cream in ice_cream_dict.items():\n",
    "    print(cream)"
   ]
  },
  {
   "cell_type": "markdown",
   "id": "dfb26299-e9e2-44c4-858f-11750c296fe2",
   "metadata": {},
   "source": [
    "#Nested For Loop"
   ]
  },
  {
   "cell_type": "code",
   "execution_count": 97,
   "id": "a46d95fa-fe32-42ed-acbe-e277f54ad001",
   "metadata": {},
   "outputs": [],
   "source": [
    "ice_creams = [\"Vanilla\",\"Chocolate\",\"Mango\"]\n",
    "toppings = [\"Chocolate chips\",\"Mayo\",\"MCC\"]"
   ]
  },
  {
   "cell_type": "code",
   "execution_count": 98,
   "id": "4783e037-4628-41a4-9eb8-fcec79f03080",
   "metadata": {},
   "outputs": [
    {
     "name": "stdout",
     "output_type": "stream",
     "text": [
      "Vanilla topped with Chocolate chips\n",
      "Vanilla topped with Mayo\n",
      "Vanilla topped with MCC\n",
      "Chocolate topped with Chocolate chips\n",
      "Chocolate topped with Mayo\n",
      "Chocolate topped with MCC\n",
      "Mango topped with Chocolate chips\n",
      "Mango topped with Mayo\n",
      "Mango topped with MCC\n"
     ]
    }
   ],
   "source": [
    "for one in ice_creams:\n",
    "    for two in toppings:\n",
    "        print(one,\"topped with\",two)"
   ]
  },
  {
   "cell_type": "markdown",
   "id": "5659e999-0411-49fa-98d6-3f5cd689eb78",
   "metadata": {},
   "source": [
    "#While Loop"
   ]
  },
  {
   "cell_type": "code",
   "execution_count": 2,
   "id": "ebc318f7-e173-4ca1-9eb1-0c81cf879333",
   "metadata": {},
   "outputs": [
    {
     "name": "stdout",
     "output_type": "stream",
     "text": [
      "0\n",
      "1\n",
      "2\n",
      "3\n",
      "4\n"
     ]
    }
   ],
   "source": [
    "number = 0\n",
    "\n",
    "while number < 5:\n",
    "    print(number)\n",
    "    number = number + 1"
   ]
  },
  {
   "cell_type": "markdown",
   "id": "afe5f5c2-3834-44fb-a14a-dd2cbc1fd1bd",
   "metadata": {},
   "source": [
    "#Break statement"
   ]
  },
  {
   "cell_type": "code",
   "execution_count": 3,
   "id": "442c0510-5b0e-4444-af25-b97f8370c7f9",
   "metadata": {},
   "outputs": [
    {
     "name": "stdout",
     "output_type": "stream",
     "text": [
      "0\n",
      "1\n",
      "2\n",
      "3\n"
     ]
    }
   ],
   "source": [
    "number = 0\n",
    "\n",
    "while number < 5:\n",
    "    print(number)\n",
    "    if number == 3:\n",
    "        break\n",
    "    number = number + 1"
   ]
  },
  {
   "cell_type": "markdown",
   "id": "d2c78bea-4abe-4a49-9958-9be79326c2bc",
   "metadata": {},
   "source": [
    "#else statement"
   ]
  },
  {
   "cell_type": "code",
   "execution_count": 5,
   "id": "a477727a-0b6a-435a-af75-16b6daf278ef",
   "metadata": {},
   "outputs": [
    {
     "name": "stdout",
     "output_type": "stream",
     "text": [
      "0\n",
      "1\n",
      "2\n",
      "3\n",
      "4\n",
      "no longer < 5\n"
     ]
    }
   ],
   "source": [
    "number = 0\n",
    "\n",
    "while number < 5:\n",
    "    print(number)\n",
    "    if number == 6:\n",
    "        break\n",
    "    number = number + 1\n",
    "\n",
    "else:\n",
    "    print(\"no longer < 5\")"
   ]
  },
  {
   "cell_type": "markdown",
   "id": "10cede9f-be56-4504-990c-ceca1adca22c",
   "metadata": {},
   "source": [
    "#Functions"
   ]
  },
  {
   "cell_type": "code",
   "execution_count": 6,
   "id": "ee9f2727-4ac9-44a5-a372-6cf5be4c7feb",
   "metadata": {},
   "outputs": [],
   "source": [
    "def first_function():\n",
    "    print(\"This is my first code\")"
   ]
  },
  {
   "cell_type": "code",
   "execution_count": 8,
   "id": "040c4c4d-bf4e-4ac4-a356-772e78390d99",
   "metadata": {},
   "outputs": [
    {
     "name": "stdout",
     "output_type": "stream",
     "text": [
      "This is my first code\n"
     ]
    }
   ],
   "source": [
    "first_function()"
   ]
  },
  {
   "cell_type": "code",
   "execution_count": 13,
   "id": "d7badf2f-5807-4a80-84c8-aa4ad3a4e06a",
   "metadata": {},
   "outputs": [],
   "source": [
    "def number_squared(number):\n",
    "    print(number ** 2)"
   ]
  },
  {
   "cell_type": "code",
   "execution_count": 15,
   "id": "b7af5301-afa4-4bcd-a812-88955dcab070",
   "metadata": {},
   "outputs": [
    {
     "name": "stdout",
     "output_type": "stream",
     "text": [
      "100\n"
     ]
    }
   ],
   "source": [
    "number_squared(10)"
   ]
  },
  {
   "cell_type": "code",
   "execution_count": 16,
   "id": "75d0820e-e6c2-48dc-af36-e2ca989b96f8",
   "metadata": {},
   "outputs": [],
   "source": [
    "def numbers_cust(*numbers):\n",
    "    print(numbers[0] * numbers[1])"
   ]
  },
  {
   "cell_type": "code",
   "execution_count": 17,
   "id": "7963fcff-99ea-49ea-beeb-c357aff5ee61",
   "metadata": {},
   "outputs": [
    {
     "name": "stdout",
     "output_type": "stream",
     "text": [
      "20\n"
     ]
    }
   ],
   "source": [
    "numbers_cust(4,5,7,8,90,0,3,4,1)"
   ]
  },
  {
   "cell_type": "markdown",
   "id": "c564dfa4-10d2-44a5-9185-05e99b66b9ab",
   "metadata": {},
   "source": [
    "#Converting Data types"
   ]
  },
  {
   "cell_type": "code",
   "execution_count": 18,
   "id": "b85b596c-7788-4b59-9e60-0aaac29ba690",
   "metadata": {},
   "outputs": [
    {
     "data": {
      "text/plain": [
       "int"
      ]
     },
     "execution_count": 18,
     "metadata": {},
     "output_type": "execute_result"
    }
   ],
   "source": [
    "num_int = 7\n",
    "\n",
    "type(num_int)"
   ]
  },
  {
   "cell_type": "code",
   "execution_count": 19,
   "id": "f4e462a9-d675-4a95-b28b-f03c81738372",
   "metadata": {},
   "outputs": [
    {
     "data": {
      "text/plain": [
       "str"
      ]
     },
     "execution_count": 19,
     "metadata": {},
     "output_type": "execute_result"
    }
   ],
   "source": [
    "num_str = '7'\n",
    "\n",
    "type(num_str)"
   ]
  },
  {
   "cell_type": "code",
   "execution_count": 21,
   "id": "70400f6f-5f80-4d50-8991-1367b8adae01",
   "metadata": {},
   "outputs": [],
   "source": [
    "num_convert = int(num_str)"
   ]
  },
  {
   "cell_type": "code",
   "execution_count": 22,
   "id": "fa020fa4-dc5e-427d-83cf-0afd861b20da",
   "metadata": {},
   "outputs": [
    {
     "data": {
      "text/plain": [
       "int"
      ]
     },
     "execution_count": 22,
     "metadata": {},
     "output_type": "execute_result"
    }
   ],
   "source": [
    "type(num_convert)"
   ]
  },
  {
   "cell_type": "code",
   "execution_count": 23,
   "id": "1779ab03-86f3-47e2-b1aa-2343dac6e529",
   "metadata": {},
   "outputs": [],
   "source": [
    "num_sum = num_int + num_convert"
   ]
  },
  {
   "cell_type": "code",
   "execution_count": 24,
   "id": "d1690534-40cb-4565-9508-de7382862040",
   "metadata": {},
   "outputs": [
    {
     "name": "stdout",
     "output_type": "stream",
     "text": [
      "14\n"
     ]
    }
   ],
   "source": [
    "print(num_sum)"
   ]
  },
  {
   "cell_type": "code",
   "execution_count": 25,
   "id": "f4b7c5ee-2ce9-4941-8ada-1d48b92749b8",
   "metadata": {},
   "outputs": [
    {
     "data": {
      "text/plain": [
       "list"
      ]
     },
     "execution_count": 25,
     "metadata": {},
     "output_type": "execute_result"
    }
   ],
   "source": [
    "list_type = [1,2,3,4]\n",
    "\n",
    "type(list_type)"
   ]
  },
  {
   "cell_type": "code",
   "execution_count": 29,
   "id": "a40d46f7-ee80-48d6-97a7-14af962607f3",
   "metadata": {},
   "outputs": [],
   "source": [
    "conv = tuple(list_type)"
   ]
  },
  {
   "cell_type": "code",
   "execution_count": 30,
   "id": "b0e86fe1-5e04-4b8f-8798-93d18c23ddc9",
   "metadata": {},
   "outputs": [
    {
     "data": {
      "text/plain": [
       "tuple"
      ]
     },
     "execution_count": 30,
     "metadata": {},
     "output_type": "execute_result"
    }
   ],
   "source": [
    "type(conv)"
   ]
  },
  {
   "cell_type": "code",
   "execution_count": null,
   "id": "b8dfce80-3d95-43e6-81d5-79b4d0d083b2",
   "metadata": {},
   "outputs": [],
   "source": []
  },
  {
   "cell_type": "code",
   "execution_count": null,
   "id": "bdac53a1-0251-47c0-8cfb-4e18aa9886ed",
   "metadata": {},
   "outputs": [],
   "source": []
  },
  {
   "cell_type": "code",
   "execution_count": null,
   "id": "4be3eefe-1708-4290-95f4-2c525ab5df8f",
   "metadata": {},
   "outputs": [],
   "source": []
  }
 ],
 "metadata": {
  "kernelspec": {
   "display_name": "Python 3 (ipykernel)",
   "language": "python",
   "name": "python3"
  },
  "language_info": {
   "codemirror_mode": {
    "name": "ipython",
    "version": 3
   },
   "file_extension": ".py",
   "mimetype": "text/x-python",
   "name": "python",
   "nbconvert_exporter": "python",
   "pygments_lexer": "ipython3",
   "version": "3.12.5"
  }
 },
 "nbformat": 4,
 "nbformat_minor": 5
}
