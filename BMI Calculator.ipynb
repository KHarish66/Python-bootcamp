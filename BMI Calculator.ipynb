{
 "cells": [
  {
   "cell_type": "code",
   "execution_count": 2,
   "id": "15c1234d-ab17-4a4a-9876-5e852e9171e2",
   "metadata": {},
   "outputs": [],
   "source": [
    "#Formula"
   ]
  },
  {
   "cell_type": "code",
   "execution_count": 3,
   "id": "88ec4dc9-0f9f-4604-9827-e003faa4bd14",
   "metadata": {},
   "outputs": [],
   "source": [
    "#BMI = (Weight in pounds * 703) / (height in inches * height in inches)"
   ]
  },
  {
   "cell_type": "code",
   "execution_count": 25,
   "id": "8137d6ff-affd-4e15-a4ea-53e4eeb15fd9",
   "metadata": {},
   "outputs": [
    {
     "name": "stdin",
     "output_type": "stream",
     "text": [
      "Enter your name: Alex\n",
      "Enter your weight in pounds: 190\n",
      "Enter your height in inches: 90\n"
     ]
    },
    {
     "name": "stdout",
     "output_type": "stream",
     "text": [
      "16.490123456790123\n",
      "Alex, You are underweight.\n"
     ]
    }
   ],
   "source": [
    "Name = input(\"Enter your name:\" )\n",
    "Weight = int(input(\"Enter your weight in pounds:\" ))\n",
    "height = int(input(\"Enter your height in inches:\" ))\n",
    "\n",
    "BMI = (Weight * 703) / (height * height)\n",
    "\n",
    "print(BMI)\n",
    "\n",
    "if BMI > 0:\n",
    "    if BMI < 18.5:\n",
    "        print(Name+ \", You are underweight.\")\n",
    "    elif BMI <= 24.9:\n",
    "        print(Name+ \", you are noramaL weight.\")\n",
    "    elif BMI < 29.9:\n",
    "        print(Name+ \", you are overweight.\")\n",
    "    elif BMI < 34.9:\n",
    "        print(Name+ \", you are obese.\")\n",
    "    elif BMI < 39.9:\n",
    "        print(Name+ \", you are severely obese.\")\n",
    "    else:\n",
    "        print(Name+ \", you are morbidly obese.\")\n",
    "else:\n",
    "    print(\"Enter a valid input\")"
   ]
  },
  {
   "cell_type": "code",
   "execution_count": null,
   "id": "091fc7a3-b3c4-4158-8dd9-20fb5c4138c7",
   "metadata": {},
   "outputs": [],
   "source": []
  },
  {
   "cell_type": "code",
   "execution_count": null,
   "id": "f7e338df-14f6-43d4-8e9b-423d8307331b",
   "metadata": {},
   "outputs": [],
   "source": []
  },
  {
   "cell_type": "code",
   "execution_count": null,
   "id": "97c50810-1291-46f7-aca4-bb74f61d416c",
   "metadata": {},
   "outputs": [],
   "source": []
  },
  {
   "cell_type": "code",
   "execution_count": null,
   "id": "fc9f3d84-10f4-4154-8266-669afbf47a75",
   "metadata": {},
   "outputs": [],
   "source": []
  },
  {
   "cell_type": "code",
   "execution_count": null,
   "id": "181380f4-98b9-4e92-91b1-7b5f8379e659",
   "metadata": {},
   "outputs": [],
   "source": []
  }
 ],
 "metadata": {
  "kernelspec": {
   "display_name": "Python 3 (ipykernel)",
   "language": "python",
   "name": "python3"
  },
  "language_info": {
   "codemirror_mode": {
    "name": "ipython",
    "version": 3
   },
   "file_extension": ".py",
   "mimetype": "text/x-python",
   "name": "python",
   "nbconvert_exporter": "python",
   "pygments_lexer": "ipython3",
   "version": "3.12.5"
  }
 },
 "nbformat": 4,
 "nbformat_minor": 5
}
